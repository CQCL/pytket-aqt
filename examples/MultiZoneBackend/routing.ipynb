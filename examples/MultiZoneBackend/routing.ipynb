{
 "cells": [
  {
   "cell_type": "markdown",
   "metadata": {},
   "source": [
    "# Compilation Examples with Routing"
   ]
  },
  {
   "cell_type": "code",
   "execution_count": 9,
   "metadata": {},
   "outputs": [],
   "source": [
    "from pytket import Circuit\n",
    "from pytket.circuit.display import view_browser as vb\n",
    "from pytket.extensions.aqt.backends.aqt_multi_zone import AQTMultiZoneBackend\n",
    "from pytket.extensions.aqt.multi_zone_architecture.named_architectures import (\n",
    "    four_zones_in_a_line,\n",
    "    racetrack,\n",
    "    grid7\n",
    ")\n",
    "from pytket.extensions.aqt.multi_zone_architecture.initial_placement.settings import (\n",
    "    InitialPlacementSettings,\n",
    "    InitialPlacementAlg,\n",
    ")\n",
    "from pytket.extensions.aqt.multi_zone_architecture.circuit_routing.settings import (\n",
    "    RoutingSettings,\n",
    "    RoutingAlg,\n",
    ")\n",
    "from pytket.extensions.aqt.multi_zone_architecture.compilation_settings import (\n",
    "    CompilationSettings,\n",
    ")\n",
    "import time"
   ]
  },
  {
   "cell_type": "markdown",
   "metadata": {},
   "source": [
    "First lets define some circuits"
   ]
  },
  {
   "cell_type": "code",
   "execution_count": 10,
   "metadata": {},
   "outputs": [],
   "source": [
    "## A simple GHZ circuit\n",
    "ghz_circuit = Circuit(16)\n",
    "ghz_circuit.H(0)\n",
    "for i in range(ghz_circuit.n_qubits - 1):\n",
    "    ghz_circuit.CX(i, i + 1)\n",
    "ghz_circuit.measure_all()\n",
    "\n",
    "## Quantum advantage circuit template\n",
    "def quantum_advantage_circuit(Lx: int, Ly: int) -> Circuit:\n",
    "    N = Lx * Ly\n",
    "    Ntrot = 30\n",
    "    dt = 0.2\n",
    "    hx = 2\n",
    "    J = 1\n",
    "\n",
    "    def c(x, y):\n",
    "        if (x - y) % N == Lx or (y - x) % N == Lx:\n",
    "            return 1\n",
    "        if x // Lx == y // Lx and x == y - (y % Lx) + (((y % Lx) + 1) % Lx):\n",
    "            return 1\n",
    "        if x // Lx == y // Lx and y == x - (x % Lx) + (((x % Lx) + 1) % Lx):\n",
    "            return 1\n",
    "        return 0\n",
    "\n",
    "    coupling_list = []\n",
    "    for i in range(0, N):\n",
    "        for j in range(i + 1, N):\n",
    "            if c(i, j) == 1:\n",
    "                coupling_list.append([i, j])\n",
    "\n",
    "    U = Circuit(N)\n",
    "\n",
    "    for t in range(Ntrot):\n",
    "        n_trotter_steps = t\n",
    "\n",
    "        if n_trotter_steps == 0:\n",
    "            for j in range(N):\n",
    "                U.Rx(-2 * dt * hx / 2, j)\n",
    "\n",
    "        for coupling in coupling_list:\n",
    "            U.ZZPhase(-2 * dt * J, coupling[0], coupling[1])\n",
    "        for j in range(N):\n",
    "            U.Rx(-2 * dt * hx, j)\n",
    "\n",
    "        if n_trotter_steps == Ntrot - 1:\n",
    "            for j in range(N):\n",
    "                U.Rx(2 * dt * hx / 2, j)\n",
    "    return U\n",
    "\n",
    "## 56 qubit quantum advantage circuit\n",
    "advantage_circuit_56 = quantum_advantage_circuit(7, 8)\n",
    "\n",
    "## 30 qubit quantum advantage circuit\n",
    "advantage_circuit_30 = quantum_advantage_circuit(5, 6)"
   ]
  },
  {
   "cell_type": "markdown",
   "metadata": {},
   "source": [
    "Now some MultiZone Backends"
   ]
  },
  {
   "cell_type": "code",
   "execution_count": 11,
   "metadata": {},
   "outputs": [],
   "source": [
    "line_backend = AQTMultiZoneBackend(\n",
    "    architecture=four_zones_in_a_line, access_token=\"invalid\"\n",
    ")\n",
    "\n",
    "racetrack.zone_types[0].max_ions = 5\n",
    "racetrack_backend = AQTMultiZoneBackend(\n",
    "    architecture=racetrack, access_token=\"invalid\"\n",
    ")\n",
    "\n",
    "grid_backend = AQTMultiZoneBackend(\n",
    "    architecture=grid7, access_token=\"invalid\"\n",
    ")\n",
    "\n"
   ]
  },
  {
   "cell_type": "markdown",
   "metadata": {},
   "source": [
    "And some different compilation settings"
   ]
  },
  {
   "cell_type": "code",
   "execution_count": 12,
   "metadata": {},
   "outputs": [],
   "source": [
    "graph_init = InitialPlacementSettings(\n",
    "    algorithm=InitialPlacementAlg.graph_partition,\n",
    "    zone_free_space=2,\n",
    "    n_threads=1,\n",
    "    max_depth=200\n",
    ")\n",
    "graph_routing = RoutingSettings(\n",
    "    algorithm=RoutingAlg.graph_partition,\n",
    "    debug_level=0,\n",
    "    n_threads=1,\n",
    ")\n",
    "graph_compilation_settings = CompilationSettings(\n",
    "    pytket_optimisation_level=1,\n",
    "    initial_placement=graph_init,\n",
    "    routing=graph_routing,\n",
    ")\n",
    "\n",
    "greedy_routing = RoutingSettings(\n",
    "    algorithm=RoutingAlg.greedy,\n",
    ")\n",
    "\n",
    "greedy_compilation_settings = CompilationSettings(\n",
    "    pytket_optimisation_level=1,\n",
    "    initial_placement=graph_init,\n",
    "    routing=greedy_routing,\n",
    ")"
   ]
  },
  {
   "cell_type": "code",
   "execution_count": 13,
   "metadata": {},
   "outputs": [
    {
     "name": "stdout",
     "output_type": "stream",
     "text": [
      "#1qb gates = 59\n",
      "#gate depth = 46\n",
      "#2qb gates = 15\n",
      "#2qb gate depth = 15\n",
      "Shuttles graph:  4\n",
      "Shuttles greedy:  6\n"
     ]
    }
   ],
   "source": [
    "ghz_precompiled = line_backend.precompile_circuit(ghz_circuit, graph_compilation_settings)\n",
    "print(\"#1qb gates =\", ghz_precompiled.n_1qb_gates())\n",
    "print(\"#gate depth =\", ghz_precompiled.depth())\n",
    "print(\"#2qb gates =\", ghz_precompiled.n_2qb_gates())\n",
    "print(\"#2qb gate depth =\", ghz_precompiled.depth_2q())\n",
    "ghz_graph_routed = line_backend.route_precompiled(ghz_precompiled, graph_compilation_settings)\n",
    "ghz_greedy_routed = line_backend.route_precompiled(ghz_precompiled, greedy_compilation_settings)\n",
    "print(\"Shuttles graph: \", ghz_graph_routed.get_n_shuttles())\n",
    "print(\"Shuttles greedy: \", ghz_greedy_routed.get_n_shuttles())"
   ]
  },
  {
   "cell_type": "code",
   "execution_count": 14,
   "metadata": {},
   "outputs": [
    {
     "name": "stdout",
     "output_type": "stream",
     "text": [
      "#1qb gates = 8700\n",
      "#gate depth = 2162\n",
      "#2qb gates = 6720\n",
      "#2qb gate depth = 1094\n",
      "Shuttles graph:  16277\n",
      "Shuttles greedy:  28147\n"
     ]
    }
   ],
   "source": [
    "\n",
    "adv_precomp = racetrack_backend.precompile_circuit(advantage_circuit_56, graph_compilation_settings)\n",
    "print(\"#1qb gates =\", adv_precomp.n_1qb_gates())\n",
    "print(\"#gate depth =\", adv_precomp.depth())\n",
    "print(\"#2qb gates =\", adv_precomp.n_2qb_gates())\n",
    "print(\"#2qb gate depth =\", adv_precomp.depth_2q())\n",
    "adv_graph_routed = racetrack_backend.route_precompiled(adv_precomp, graph_compilation_settings)\n",
    "adv_greedy_routed = racetrack_backend.route_precompiled(adv_precomp, greedy_compilation_settings)\n",
    "print(\"Shuttles graph: \", adv_graph_routed.get_n_shuttles())\n",
    "print(\"Shuttles greedy: \", adv_greedy_routed.get_n_shuttles())"
   ]
  },
  {
   "cell_type": "code",
   "execution_count": 15,
   "metadata": {},
   "outputs": [
    {
     "name": "stdout",
     "output_type": "stream",
     "text": [
      "#1qb gates = 4654\n",
      "#gate depth = 1269\n",
      "#2qb gates = 3600\n",
      "#2qb gate depth = 640\n",
      "Shuttles graph:  2038\n",
      "Shuttles greedy:  2275\n"
     ]
    }
   ],
   "source": [
    "\n",
    "adv_precomp = grid_backend.precompile_circuit(advantage_circuit_30, graph_compilation_settings)\n",
    "print(\"#1qb gates =\", adv_precomp.n_1qb_gates())\n",
    "print(\"#gate depth =\", adv_precomp.depth())\n",
    "print(\"#2qb gates =\", adv_precomp.n_2qb_gates())\n",
    "print(\"#2qb gate depth =\", adv_precomp.depth_2q())\n",
    "adv_graph_routed = grid_backend.route_precompiled(adv_precomp, graph_compilation_settings)\n",
    "adv_greedy_routed = grid_backend.route_precompiled(adv_precomp, greedy_compilation_settings)\n",
    "print(\"Shuttles graph: \", adv_graph_routed.get_n_shuttles())\n",
    "print(\"Shuttles greedy: \", adv_greedy_routed.get_n_shuttles())"
   ]
  }
 ],
 "metadata": {
  "kernelspec": {
   "display_name": "Python 3 (ipykernel)",
   "language": "python",
   "name": "python3"
  },
  "language_info": {
   "codemirror_mode": {
    "name": "ipython",
    "version": 3
   },
   "file_extension": ".py",
   "mimetype": "text/x-python",
   "name": "python",
   "nbconvert_exporter": "python",
   "pygments_lexer": "ipython3",
   "version": "3.11.2"
  }
 },
 "nbformat": 4,
 "nbformat_minor": 4
}
