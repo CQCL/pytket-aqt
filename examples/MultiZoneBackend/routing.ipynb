{
 "cells": [
  {
   "cell_type": "markdown",
   "metadata": {},
   "source": [
    "# Compilation Examples with Routing"
   ]
  },
  {
   "cell_type": "code",
   "execution_count": 1,
   "metadata": {},
   "outputs": [],
   "source": [
    "\n",
    "from pytket import Circuit\n",
    "from pytket.extensions.aqt.backends.aqt_multi_zone import AQTMultiZoneBackend\n",
    "from pytket.extensions.aqt.multi_zone_architecture.circuit_routing.settings import (\n",
    "    RoutingAlg,\n",
    "    RoutingSettings,\n",
    ")\n",
    "from pytket.extensions.aqt.multi_zone_architecture.compilation_settings import (\n",
    "    CompilationSettings,\n",
    ")\n",
    "from pytket.extensions.aqt.multi_zone_architecture.graph_algs.mt_kahypar import (\n",
    "    MtKahyparConfig,\n",
    "    configure_mtkahypar,\n",
    ")\n",
    "from pytket.extensions.aqt.multi_zone_architecture.initial_placement.settings import (\n",
    "    InitialPlacementAlg,\n",
    "    InitialPlacementSettings,\n",
    ")\n",
    "from pytket.extensions.aqt.multi_zone_architecture.named_architectures import (\n",
    "    four_zones_in_a_line,\n",
    "    grid12,\n",
    "    grid12_mod,\n",
    "    racetrack,\n",
    "    racetrack_4_gatezones,\n",
    ")"
   ]
  },
  {
   "cell_type": "markdown",
   "metadata": {},
   "source": [
    "First lets define some circuits"
   ]
  },
  {
   "cell_type": "code",
   "execution_count": 2,
   "metadata": {},
   "outputs": [],
   "source": [
    "## A simple GHZ circuit\n",
    "ghz_circuit = Circuit(16)\n",
    "ghz_circuit.H(0)\n",
    "for i in range(ghz_circuit.n_qubits - 1):\n",
    "    ghz_circuit.CX(i, i + 1)\n",
    "ghz_circuit.measure_all()\n",
    "\n",
    "## Quantum advantage circuit template\n",
    "def quantum_advantage_circuit(Lx: int, Ly: int) -> Circuit:\n",
    "    N = Lx * Ly\n",
    "    Ntrot = 30\n",
    "    dt = 0.2\n",
    "    hx = 2\n",
    "    J = 1\n",
    "\n",
    "    def c(x, y):\n",
    "        if (x - y) % N == Lx or (y - x) % N == Lx:\n",
    "            return 1\n",
    "        if x // Lx == y // Lx and x == y - (y % Lx) + (((y % Lx) + 1) % Lx):\n",
    "            return 1\n",
    "        if x // Lx == y // Lx and y == x - (x % Lx) + (((x % Lx) + 1) % Lx):\n",
    "            return 1\n",
    "        return 0\n",
    "\n",
    "    coupling_list = []\n",
    "    for i in range(N):\n",
    "        for j in range(i + 1, N):\n",
    "            if c(i, j) == 1:\n",
    "                coupling_list.append([i, j])\n",
    "\n",
    "    U = Circuit(N)\n",
    "\n",
    "    for t in range(Ntrot):\n",
    "        n_trotter_steps = t\n",
    "\n",
    "        if n_trotter_steps == 0:\n",
    "            for j in range(N):\n",
    "                U.Rx(-2 * dt * hx / 2, j)\n",
    "\n",
    "        for coupling in coupling_list:\n",
    "            U.ZZPhase(-2 * dt * J, coupling[0], coupling[1])\n",
    "        for j in range(N):\n",
    "            U.Rx(-2 * dt * hx, j)\n",
    "\n",
    "        if n_trotter_steps == Ntrot - 1:\n",
    "            for j in range(N):\n",
    "                U.Rx(2 * dt * hx / 2, j)\n",
    "    return U\n",
    "\n",
    "## 56 qubit quantum advantage circuit\n",
    "advantage_circuit_56 = quantum_advantage_circuit(7, 8)\n",
    "\n",
    "## 30 qubit quantum advantage circuit\n",
    "advantage_circuit_30 = quantum_advantage_circuit(5, 6)\n",
    "\n",
    "def build_qft_circuit(n_qubits: int) -> Circuit:\n",
    "    circ = Circuit(n_qubits, name=\"QFT\")\n",
    "    for i in range(n_qubits):\n",
    "        circ.H(i)\n",
    "        for j in range(i + 1, n_qubits):\n",
    "            circ.CU1(1 / 2 ** (j - i), j, i)\n",
    "    for k in range(n_qubits // 2):\n",
    "        circ.SWAP(k, n_qubits - k - 1)\n",
    "    return circ\n",
    "\n",
    "## 16 qft circuit\n",
    "qft_circ = build_qft_circuit(16)\n",
    "\n"
   ]
  },
  {
   "cell_type": "markdown",
   "metadata": {},
   "source": [
    "Now some MultiZone Backends"
   ]
  },
  {
   "cell_type": "code",
   "execution_count": 3,
   "metadata": {},
   "outputs": [],
   "source": [
    "line_backend = AQTMultiZoneBackend(\n",
    "    architecture=four_zones_in_a_line, access_token=\"invalid\"\n",
    ")\n",
    "\n",
    "racetrack_backend = AQTMultiZoneBackend(\n",
    "    architecture=racetrack, access_token=\"invalid\"\n",
    ")\n",
    "\n",
    "racetrack_4_gatezones_backend = AQTMultiZoneBackend(\n",
    "    architecture=racetrack_4_gatezones, access_token=\"invalid\"\n",
    ")\n",
    "\n",
    "grid_backend = AQTMultiZoneBackend(\n",
    "    architecture=grid12, access_token=\"invalid\"\n",
    ")\n",
    "\n",
    "grid_mod_backend = AQTMultiZoneBackend(\n",
    "    architecture=grid12_mod, access_token=\"invalid\"\n",
    ")\n"
   ]
  },
  {
   "cell_type": "markdown",
   "metadata": {},
   "source": [
    "And some different compilation settings"
   ]
  },
  {
   "cell_type": "code",
   "execution_count": 4,
   "metadata": {},
   "outputs": [],
   "source": [
    "# This can be used to configure the number of threads used and random seed\n",
    "# for mt-kahypar. It is not required (then default will be used) and can only\n",
    "# be set once\n",
    "configure_mtkahypar(\n",
    "    MtKahyparConfig(\n",
    "        n_threads = 1,\n",
    "        random_seed = 13\n",
    "    )\n",
    ")\n",
    "order_init = InitialPlacementSettings(\n",
    "    algorithm=InitialPlacementAlg.qubit_order,\n",
    "    zone_free_space=2,\n",
    "    max_depth=200,\n",
    ")\n",
    "graph_routing = RoutingSettings(\n",
    "    algorithm=RoutingAlg.graph_partition,\n",
    "    debug_level=0,\n",
    ")\n",
    "graph_compilation_settings = CompilationSettings(\n",
    "    pytket_optimisation_level=1,\n",
    "    initial_placement=order_init,\n",
    "    routing=graph_routing,\n",
    ")\n",
    "\n",
    "greedy_routing = RoutingSettings(\n",
    "    algorithm=RoutingAlg.greedy,\n",
    ")\n",
    "greedy_compilation_settings = CompilationSettings(\n",
    "    pytket_optimisation_level=1,\n",
    "    initial_placement=order_init,\n",
    "    routing=greedy_routing,\n",
    ")"
   ]
  },
  {
   "cell_type": "markdown",
   "metadata": {},
   "source": [
    "## GHZ circuit on a line architecture with two central gate zones and two outer memory zones (8-6-6-8)"
   ]
  },
  {
   "cell_type": "code",
   "execution_count": 5,
   "metadata": {},
   "outputs": [
    {
     "name": "stdout",
     "output_type": "stream",
     "text": [
      "#1qb gates = 59\n",
      "#gate depth = 46\n",
      "#2qb gates = 15\n",
      "#2qb gate depth = 15\n",
      "Shuttles graph:  28\n",
      "Shuttles greedy:  28\n"
     ]
    }
   ],
   "source": [
    "ghz_precompiled = line_backend.precompile_circuit(ghz_circuit, graph_compilation_settings)\n",
    "print(\"#1qb gates =\", ghz_precompiled.n_1qb_gates())\n",
    "print(\"#gate depth =\", ghz_precompiled.depth())\n",
    "print(\"#2qb gates =\", ghz_precompiled.n_2qb_gates())\n",
    "print(\"#2qb gate depth =\", ghz_precompiled.depth_2q())\n",
    "ghz_graph_routed = line_backend.route_precompiled(ghz_precompiled, graph_compilation_settings)\n",
    "ghz_greedy_routed = line_backend.route_precompiled(ghz_precompiled, greedy_compilation_settings)\n",
    "print(\"Shuttles graph: \", ghz_graph_routed.get_n_shuttles())\n",
    "print(\"Shuttles greedy: \", ghz_greedy_routed.get_n_shuttles())"
   ]
  },
  {
   "cell_type": "markdown",
   "metadata": {},
   "source": [
    "## QFT circuit on a line architecture with two central gate zones and two outer memory zones (8-6-6-8)"
   ]
  },
  {
   "cell_type": "code",
   "execution_count": 6,
   "metadata": {},
   "outputs": [
    {
     "name": "stdout",
     "output_type": "stream",
     "text": [
      "#1qb gates = 59\n",
      "#gate depth = 46\n",
      "#2qb gates = 15\n",
      "#2qb gate depth = 15\n",
      "Shuttles graph:  90\n",
      "Shuttles greedy:  568\n"
     ]
    }
   ],
   "source": [
    "qft_precompiled = line_backend.precompile_circuit(qft_circ, graph_compilation_settings)\n",
    "print(\"#1qb gates =\", ghz_precompiled.n_1qb_gates())\n",
    "print(\"#gate depth =\", ghz_precompiled.depth())\n",
    "print(\"#2qb gates =\", ghz_precompiled.n_2qb_gates())\n",
    "print(\"#2qb gate depth =\", ghz_precompiled.depth_2q())\n",
    "ghz_graph_routed = line_backend.route_precompiled(qft_precompiled, graph_compilation_settings)\n",
    "ghz_greedy_routed = line_backend.route_precompiled(qft_precompiled, greedy_compilation_settings)\n",
    "print(\"Shuttles graph: \", ghz_graph_routed.get_n_shuttles())\n",
    "print(\"Shuttles greedy: \", ghz_greedy_routed.get_n_shuttles())"
   ]
  },
  {
   "cell_type": "markdown",
   "metadata": {},
   "source": [
    "## 56 qubit \"quantum advantage\" circuit on all gate-zone \"racetrack\" architecture"
   ]
  },
  {
   "cell_type": "code",
   "execution_count": 7,
   "metadata": {},
   "outputs": [
    {
     "name": "stdout",
     "output_type": "stream",
     "text": [
      "#1qb gates = 8700\n",
      "#gate depth = 2162\n",
      "#2qb gates = 6720\n",
      "#2qb gate depth = 1094\n",
      "Shuttles graph:  12523\n",
      "Shuttles greedy:  16103\n"
     ]
    }
   ],
   "source": [
    "\n",
    "adv_precomp = racetrack_backend.precompile_circuit(advantage_circuit_56, graph_compilation_settings)\n",
    "print(\"#1qb gates =\", adv_precomp.n_1qb_gates())\n",
    "print(\"#gate depth =\", adv_precomp.depth())\n",
    "print(\"#2qb gates =\", adv_precomp.n_2qb_gates())\n",
    "print(\"#2qb gate depth =\", adv_precomp.depth_2q())\n",
    "adv_graph_routed = racetrack_backend.route_precompiled(adv_precomp, graph_compilation_settings)\n",
    "adv_greedy_routed = racetrack_backend.route_precompiled(adv_precomp, greedy_compilation_settings)\n",
    "print(\"Shuttles graph: \", adv_graph_routed.get_n_shuttles())\n",
    "print(\"Shuttles greedy: \", adv_greedy_routed.get_n_shuttles())"
   ]
  },
  {
   "cell_type": "markdown",
   "metadata": {},
   "source": [
    "## 56 qubit \"quantum advantage\" circuit on 4 sequential gate-zone \"racetrack\" architecture"
   ]
  },
  {
   "cell_type": "code",
   "execution_count": 8,
   "metadata": {},
   "outputs": [
    {
     "name": "stdout",
     "output_type": "stream",
     "text": [
      "#1qb gates = 8700\n",
      "#gate depth = 2162\n",
      "#2qb gates = 6720\n",
      "#2qb gate depth = 1094\n",
      "Shuttles graph:  11286\n",
      "Shuttles greedy:  18826\n"
     ]
    }
   ],
   "source": [
    "\n",
    "adv_precomp2 = racetrack_4_gatezones_backend.precompile_circuit(advantage_circuit_56, graph_compilation_settings)\n",
    "print(\"#1qb gates =\", adv_precomp2.n_1qb_gates())\n",
    "print(\"#gate depth =\", adv_precomp2.depth())\n",
    "print(\"#2qb gates =\", adv_precomp2.n_2qb_gates())\n",
    "print(\"#2qb gate depth =\", adv_precomp2.depth_2q())\n",
    "adv_graph_routed2 = racetrack_4_gatezones_backend.route_precompiled(adv_precomp2, graph_compilation_settings)\n",
    "adv_greedy_routed2 = racetrack_4_gatezones_backend.route_precompiled(adv_precomp2, greedy_compilation_settings)\n",
    "print(\"Shuttles graph: \", adv_graph_routed2.get_n_shuttles())\n",
    "print(\"Shuttles greedy: \", adv_greedy_routed2.get_n_shuttles())"
   ]
  },
  {
   "cell_type": "markdown",
   "metadata": {},
   "source": [
    "## Grid Architecture: All gate zones"
   ]
  },
  {
   "cell_type": "code",
   "execution_count": 9,
   "metadata": {},
   "outputs": [
    {
     "name": "stdout",
     "output_type": "stream",
     "text": [
      "#1qb gates = 4654\n",
      "#gate depth = 1269\n",
      "#2qb gates = 3600\n",
      "#2qb gate depth = 640\n",
      "Shuttles graph:  1837\n",
      "Shuttles greedy:  2550\n"
     ]
    }
   ],
   "source": [
    "\n",
    "adv_precomp = grid_backend.precompile_circuit(advantage_circuit_30, graph_compilation_settings)\n",
    "print(\"#1qb gates =\", adv_precomp.n_1qb_gates())\n",
    "print(\"#gate depth =\", adv_precomp.depth())\n",
    "print(\"#2qb gates =\", adv_precomp.n_2qb_gates())\n",
    "print(\"#2qb gate depth =\", adv_precomp.depth_2q())\n",
    "adv_graph_routed = grid_backend.route_precompiled(adv_precomp, graph_compilation_settings)\n",
    "adv_greedy_routed = grid_backend.route_precompiled(adv_precomp, greedy_compilation_settings)\n",
    "print(\"Shuttles graph: \", adv_graph_routed.get_n_shuttles())\n",
    "print(\"Shuttles greedy: \", adv_greedy_routed.get_n_shuttles())"
   ]
  },
  {
   "cell_type": "markdown",
   "metadata": {},
   "source": [
    "## Grid Architecture: Four gate zones"
   ]
  },
  {
   "cell_type": "code",
   "execution_count": 10,
   "metadata": {},
   "outputs": [
    {
     "name": "stdout",
     "output_type": "stream",
     "text": [
      "#1qb gates = 4654\n",
      "#gate depth = 1269\n",
      "#2qb gates = 3600\n",
      "#2qb gate depth = 640\n",
      "Shuttles graph:  3371\n",
      "Shuttles greedy:  3633\n"
     ]
    }
   ],
   "source": [
    "adv_gm_precompiled = grid_mod_backend.precompile_circuit(advantage_circuit_30, graph_compilation_settings)\n",
    "print(\"#1qb gates =\", adv_gm_precompiled.n_1qb_gates())\n",
    "print(\"#gate depth =\", adv_gm_precompiled.depth())\n",
    "print(\"#2qb gates =\", adv_gm_precompiled.n_2qb_gates())\n",
    "print(\"#2qb gate depth =\", adv_gm_precompiled.depth_2q())\n",
    "adv_gm_graph_routed = grid_mod_backend.route_precompiled(adv_gm_precompiled, graph_compilation_settings)\n",
    "adv_gm_greedy_routed = grid_mod_backend.route_precompiled(adv_gm_precompiled, greedy_compilation_settings)\n",
    "print(\"Shuttles graph: \", adv_gm_graph_routed.get_n_shuttles())\n",
    "print(\"Shuttles greedy: \", adv_gm_greedy_routed.get_n_shuttles())"
   ]
  }
 ],
 "metadata": {
  "kernelspec": {
   "display_name": ".venv",
   "language": "python",
   "name": "python3"
  },
  "language_info": {
   "codemirror_mode": {
    "name": "ipython",
    "version": 3
   },
   "file_extension": ".py",
   "mimetype": "text/x-python",
   "name": "python",
   "nbconvert_exporter": "python",
   "pygments_lexer": "ipython3",
   "version": "3.12.0"
  }
 },
 "nbformat": 4,
 "nbformat_minor": 4
}
